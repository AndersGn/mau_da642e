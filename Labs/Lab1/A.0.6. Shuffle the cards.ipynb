{
 "cells": [
  {
   "cell_type": "markdown",
   "metadata": {},
   "source": [
    "# Lab1: This Python script solves the problems outlined in assignment A.0.6. Shuffle the cards!\n",
    "\n",
    "Task description:\n",
    "\n",
    "A standard deck of playing cards contains 52 cards. Each card has one of four suits along with a value. The suits are normally spades, hearts, diamonds and clubs while the values are 2 through 10, Jack, Queen, King and Ace. Each playing card can be represented using two characters. The first character is the value of the card, with the values 2 through 9 being represented directly. The characters “T”, “J”, “Q”, “K” and “A” are used to represent the values 10, Jack, Queen, King and Ace respectively. The second character is used to represent the suit of the card. It is normally a lowercase letter: “s” for spades, “h” for hearts, “d” for diamonds and “c” for clubs. The following table provides several examples of cards and their two-character representations. \n",
    "\n",
    "![Table of cards and their two-character representations](../images/LAb1_image-2.png \"Table of cards and their two-character representations\").\n",
    "\n",
    " Begin by writing a function named createDeck. It will use loops to create a complete deck of cards by adding the suit to the number and storing the two-character abbreviations for all 52 cards in a list. Return the list of cards as the function’s only result. Your function will not take any parameters. \n",
    "\n",
    " Write a second function named shuffle that randomizes the order of the cards in a list. The input of the function should be the list contacting the deck of cards (52 items) that you have created in the previous function. You can use the \"random\" library shuffle function. Alternatively, you can write your own shuffling function:  One technique that can be used to shuffle the cards is to visit each element in the list and swap it with another random element in the list. You must write your own loop for shuffling the cards. The output of the function should be 2 lists: the deck of cards before shuffling and the deck of cards after shuffling.\n",
    "\n",
    "# Author: Anders Grahn\n",
    "# Date: 2024-01-23"
   ]
  },
  {
   "cell_type": "code",
   "execution_count": 26,
   "metadata": {},
   "outputs": [
    {
     "name": "stdout",
     "output_type": "stream",
     "text": [
      "Deck of cards before shuffling\n",
      "['2s', '3s', '4s', '5s', '6s', '7s', '8s', '9s', 'Ts', 'Js', 'Qs', 'Ks', 'As', '2h', '3h', '4h', '5h', '6h', '7h', '8h', '9h', 'Th', 'Jh', 'Qh', 'Kh', 'Ah', '2d', '3d', '4d', '5d', '6d', '7d', '8d', '9d', 'Td', 'Jd', 'Qd', 'Kd', 'Ad', '2c', '3c', '4c', '5c', '6c', '7c', '8c', '9c', 'Tc', 'Jc', 'Qc', 'Kc', 'Ac']\n",
      "Deck of cards after shuffling\n",
      "['Kd', 'Js', '4s', 'Ts', 'Ks', '7c', '3d', '5d', '4c', '2d', '6c', 'Jc', '5c', '2s', '7s', '8s', '4h', 'Ad', '6d', 'Ac', '3h', '5h', 'Tc', 'As', '9h', 'Qh', '8c', '9d', '7h', '9c', 'Jh', 'Ah', '5s', '3c', 'Qc', '4d', 'Kc', '8h', '7d', '2c', '8d', 'Jd', 'Kh', 'Td', 'Th', '6h', '2h', '9s', 'Qd', '3s', '6s', 'Qs']\n"
     ]
    }
   ],
   "source": [
    "import random\n",
    "\n",
    "# Creates a deck of cards\n",
    "def createDeck():\n",
    "    deck = [] # To hold the deck of cards\n",
    "    suits = [\"s\", \"h\", \"d\", \"c\"] # Suits to add to the card values\n",
    "    values = [2, 3, 4, 5, 6, 7, 8, 9, \"T\", \"J\", \"Q\", \"K\", \"A\"] # Values to add to cards\n",
    "    \n",
    "    # Go through each suit and add it to the values\n",
    "    suit_index=0\n",
    "    while suit_index < len(suits):\n",
    "        for card_value in values: # Go through each card value to be able to add a suit to the value\n",
    "            deck.append(\"{my_value}{my_suit}\".format(my_value=card_value, my_suit=suits[suit_index])) # Add the suit and value to the card deck\n",
    "        suit_index +=1 # Go to the next suit\n",
    "\n",
    "    return deck\n",
    "\n",
    "\n",
    "# Shuffles a card deck and returns the unshuffled card deck\n",
    "# Returns 2 lists, one before shuffling and one after shuffling\n",
    "def shuffle(my_deck_of_cards):\n",
    "    my_unshuffled_deck_of_cards = my_deck_of_cards.copy() # Make a copy of our deck of cards before we shuffle it\n",
    "    random.shuffle(my_deck_of_cards) # Here we shuffle around the card list (affects the actual list, do not retun a new shuffled list)\n",
    "    return my_unshuffled_deck_of_cards, my_deck_of_cards # This has now been shuffled using random.shuffle\n",
    "\n",
    "\n",
    "# Two list retuned from the shuffle function\n",
    "cards_before_shuffling, deck_of_cards_after_shuffling = shuffle(createDeck())\n",
    "\n",
    "print(\"Deck of cards before shuffling:\")\n",
    "print(cards_before_shuffling)\n",
    "print(\"Deck of cards after shuffling:\")\n",
    "print(deck_of_cards_after_shuffling)"
   ]
  }
 ],
 "metadata": {
  "kernelspec": {
   "display_name": "Python 3",
   "language": "python",
   "name": "python3"
  },
  "language_info": {
   "codemirror_mode": {
    "name": "ipython",
    "version": 3
   },
   "file_extension": ".py",
   "mimetype": "text/x-python",
   "name": "python",
   "nbconvert_exporter": "python",
   "pygments_lexer": "ipython3",
   "version": "3.11.5"
  }
 },
 "nbformat": 4,
 "nbformat_minor": 2
}
