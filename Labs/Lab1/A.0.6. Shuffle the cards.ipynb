{
 "cells": [
  {
   "cell_type": "markdown",
   "metadata": {},
   "source": [
    "# Lab1: This Python script solves the problems outlined in assignment A.0.6. Shuffle the cards!\n",
    "\n",
    "Task description:\n",
    "\n",
    "A standard deck of playing cards contains 52 cards. Each card has one of four suits along with a value. The suits are normally spades, hearts, diamonds and clubs while the values are 2 through 10, Jack, Queen, King and Ace. Each playing card can be represented using two characters. The first character is the value of the card, with the values 2 through 9 being represented directly. The characters “T”, “J”, “Q”, “K” and “A” are used to represent the values 10, Jack, Queen, King and Ace respectively. The second character is used to represent the suit of the card. It is normally a lowercase letter: “s” for spades, “h” for hearts, “d” for diamonds and “c” for clubs. The following table provides several examples of cards and their two-character representations. \n",
    "\n",
    "![Table of cards and their two-character representations](../images/LAb1_image-2.png \"Table of cards and their two-character representations\").\n",
    "\n",
    " Begin by writing a function named createDeck. It will use loops to create a complete deck of cards by adding the suit to the number and storing the two-character abbreviations for all 52 cards in a list. Return the list of cards as the function’s only result. Your function will not take any parameters. \n",
    "\n",
    " Write a second function named shuffle that randomizes the order of the cards in a list. The input of the function should be the list contacting the deck of cards (52 items) that you have created in the previous function. You can use the \"random\" library shuffle function. Alternatively, you can write your own shuffling function:  One technique that can be used to shuffle the cards is to visit each element in the list and swap it with another random element in the list. You must write your own loop for shuffling the cards. The output of the function should be 2 lists: the deck of cards before shuffling and the deck of cards after shuffling.\n",
    "\n",
    "# Author: Anders Grahn\n",
    "# Date: 2024-01-XX"
   ]
  },
  {
   "cell_type": "code",
   "execution_count": null,
   "metadata": {},
   "outputs": [],
   "source": [
    "print(\"ToDo:\")"
   ]
  }
 ],
 "metadata": {
  "language_info": {
   "name": "python"
  }
 },
 "nbformat": 4,
 "nbformat_minor": 2
}
