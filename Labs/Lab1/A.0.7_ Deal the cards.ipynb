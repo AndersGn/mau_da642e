{
 "cells": [
  {
   "cell_type": "markdown",
   "metadata": {},
   "source": [
    "# Lab1: This Python script solves the problems outlined in assignment A.0.7: Deal the cards\n",
    "\n",
    "Task description:\n",
    "\n",
    " In many card games, each player is dealt a specific number of cards after the deck has been shuffled. Write a function, deal, which takes the number of hands, the number of cards per hand, and a deck of cards as its three parameters. Your function should return a list containing all of the hands that were dealt. Each hand will be represented as a list of cards. When dealing with the hands, your function should modify the deck of cards passed to it as a parameter, removing each card from the deck as it is added to a player’s hand. When cards are dealt, it is customary to give each player a card before any player receives an additional card. Your function should follow this custom when constructing the hands for the players. \n",
    "\n",
    "When done with writing the above function, use your solution to A.0.6 to help you construct a main class that creates, shuffles, and deals a deck of cards. Your class structure should be like below:\n",
    "\n",
    "```\n",
    "class cards():\n",
    "    cards=[]\n",
    "    def create (self):\n",
    "        self.cards=[]\n",
    "        #Your program goes here\n",
    "        #Construct the deck here\n",
    "\n",
    "\n",
    "    def shuffle (self):\n",
    "        #Your program goes here\n",
    "        #use constructed card deck by using \"self.cards\" and shuffle them\n",
    "\n",
    "    def deal (self,hands,card_num):\n",
    "        #Your program goes here\n",
    "        #use constructed card deck by using \"self.cards\" and deal based on the number of hands, \"hands\", and number of cards in each hand, \"num-cards\", that are recevied from the user\n",
    "\n",
    "\n",
    "#initialte your programs with this functions\n",
    "#card_01 = cards\n",
    "#card_01.create()\n",
    "#card_01.shuffle()\n",
    "#card_01.deal(X,Y) #Change X and Y \n",
    "```\n",
    "\n",
    "# Author: Anders Grahn\n",
    "# Date: 2024-01-24"
   ]
  },
  {
   "cell_type": "code",
   "execution_count": 1,
   "metadata": {},
   "outputs": [
    {
     "name": "stdout",
     "output_type": "stream",
     "text": [
      "[['Js', '2c', 'Kd', '6h'], ['8c', '2d', '4s', '8s']]\n"
     ]
    }
   ],
   "source": [
    "import random # Used to shuffle the deck of cards\n",
    "\n",
    "class cards():\n",
    "    cards=[] # Property of the class\n",
    "    def create (self):\n",
    "        #Constructs the deck here\n",
    "        suits = [\"s\", \"h\", \"d\", \"c\"] # Suits to add to the card values\n",
    "        values = [2, 3, 4, 5, 6, 7, 8, 9, \"T\", \"J\", \"Q\", \"K\", \"A\"] # Values to add to cards\n",
    "        \n",
    "        # Go through each suit and add it to the values\n",
    "        suit_index=0\n",
    "        while suit_index < len(suits):\n",
    "            for card_value in values: # Go through each card value to be able to add a suit to the value\n",
    "                self.cards.append(\"{my_value}{my_suit}\".format(my_value=card_value, my_suit=suits[suit_index])) # Add the suit and value to the card deck\n",
    "            suit_index +=1 # Go to the next suit\n",
    "\n",
    "    def shuffle (self):\n",
    "        #use constructed card deck by using \"self.cards\" and shuffle them\n",
    "        random.shuffle(self.cards) # Here we shuffle around the card list (affects the actual list, does not retun a new shuffled list)\n",
    "\n",
    "    # Anders note: Assigment states three input parameters, but I skip the deck of cards parameter, since this is available through the self.cards\n",
    "    # Use constructed card deck by using \"self.cards\" and deal based on the number of hands, \"hands\", and number of cards in each hand, \"card_num\", that are recevied from the user\n",
    "    def deal (self, hands, card_num):        \n",
    "        all_hands = [] # Keeps track of all the hands that where dealt       \n",
    "        give_each_player_a_card_index = 0 # Keep track of how many cards each player has been delt\n",
    "        # Give each player a card before any player receives an additional card, until each player has got correct number of cards on hand\n",
    "        while give_each_player_a_card_index != card_num:\n",
    "            # Keep track of the player we give the current card to\n",
    "            player_index=0\n",
    "            # Give a new card to each player\n",
    "            while player_index != hands:                \n",
    "                # Only create one list per player\n",
    "                if len(all_hands) != hands:\n",
    "                    all_hands.append([])\n",
    "                # Check that we still have cards do hand out\n",
    "                if len(self.cards) !=0:\n",
    "                    all_hands[player_index].append(self.cards.pop()) # Remove the card from the card deck and give it to this player\n",
    "                else:\n",
    "                    return \"Ooop, we did run out for cards! Try to lower the amount of players or lower the number of cards for each player \"\n",
    "                player_index +=1 # Go to the next player and deal a new card\n",
    "            give_each_player_a_card_index +=1 # Go to next round of dealing cards\n",
    "        \n",
    "        # Return a list containing all the hands that were dealt, each hand is represented as a list of card\n",
    "        return all_hands \n",
    "\n",
    "\n",
    "# Initialte your programs with these functions\n",
    "card_01 = cards()\n",
    "card_01.create()\n",
    "card_01.shuffle()\n",
    "\n",
    "# Here we deal the cards\n",
    "print(card_01.deal(2, 4)) # Number of players, number of cards per player"
   ]
  }
 ],
 "metadata": {
  "kernelspec": {
   "display_name": "Python 3",
   "language": "python",
   "name": "python3"
  },
  "language_info": {
   "codemirror_mode": {
    "name": "ipython",
    "version": 3
   },
   "file_extension": ".py",
   "mimetype": "text/x-python",
   "name": "python",
   "nbconvert_exporter": "python",
   "pygments_lexer": "ipython3",
   "version": "3.11.5"
  }
 },
 "nbformat": 4,
 "nbformat_minor": 2
}
