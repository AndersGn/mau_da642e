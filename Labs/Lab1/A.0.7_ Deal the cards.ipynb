{
 "cells": [
  {
   "cell_type": "markdown",
   "metadata": {},
   "source": [
    "# Lab1: This Python script solves the problems outlined in assignment A.0.7: Deal the cards\n",
    "\n",
    "Task description:\n",
    "\n",
    " In many card games, each player is dealt a specific number of cards after the deck has been shuffled. Write a function, deal, which takes the number of hands, the number of cards per hand, and a deck of cards as its three parameters. Your function should return a list containing all of the hands that were dealt. Each hand will be represented as a list of cards. When dealing with the hands, your function should modify the deck of cards passed to it as a parameter, removing each card from the deck as it is added to a player’s hand. When cards are dealt, it is customary to give each player a card before any player receives an additional card. Your function should follow this custom when constructing the hands for the players. \n",
    "\n",
    "When done with writing the above function, use your solution to A.0.6 to help you construct a main class that creates, shuffles, and deals a deck of cards. Your class structure should be like below:\n",
    "\n",
    "```\n",
    "class cards():\n",
    "    cards=[]\n",
    "    def create (self):\n",
    "        self.cards=[]\n",
    "        #Your program goes here\n",
    "        #Construct the deck here\n",
    "\n",
    "\n",
    "    def shuffle (self):\n",
    "        #Your program goes here\n",
    "        #use constructed card deck by using \"self.cards\" and shuffle them\n",
    "\n",
    "    def deal (self,hands,card_num):\n",
    "        #Your program goes here\n",
    "        #use constructed card deck by using \"self.cards\" and deal based on the number of hands, \"hands\", and number of cards in each hand, \"num-cards\", that are recevied from the user\n",
    "\n",
    "\n",
    "#initialte your programs with this functions\n",
    "#card_01 = cards\n",
    "#card_01.create()\n",
    "#card_01.shuffle()\n",
    "#card_01.deal(X,Y) #Change X and Y \n",
    "```\n",
    "\n",
    "# Author: Anders Grahn\n",
    "# Date: 2024-01-XX"
   ]
  },
  {
   "cell_type": "code",
   "execution_count": null,
   "metadata": {},
   "outputs": [],
   "source": [
    "print(\"ToDo:\")"
   ]
  }
 ],
 "metadata": {
  "language_info": {
   "name": "python"
  }
 },
 "nbformat": 4,
 "nbformat_minor": 2
}
