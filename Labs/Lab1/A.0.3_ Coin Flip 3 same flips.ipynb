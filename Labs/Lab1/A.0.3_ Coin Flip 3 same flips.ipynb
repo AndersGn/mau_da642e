{
 "cells": [
  {
   "cell_type": "markdown",
   "metadata": {},
   "source": [
    "# Lab1: This Python script solves the problems outlined in assignment A.0.3: Coin Flip - 3 same flips\n",
    "\n",
    "Task description:\n",
    "\n",
    "Create a program that uses Python’s random number generator to simulate flipping a coin several times. The simulated coin should be fair, meaning that the probability of heads is equal to the probability of tails. \n",
    "\n",
    "Each time the program is run, your program should flip simulated coins until either 3 consecutive heads or 3 consecutive tails occur. \n",
    "Display an H each time the outcome is heads, and a T each time the outcome is tails, with all of the outcomes shown on the same line. Then display the number of flips needed to reach 3 consecutive flips with the same outcome.  \n",
    "\n",
    "Hint: The documentation for random library and function: [Random Library](https://docs.python.org/3/library/random.html)\n",
    "\n",
    "# Author: Anders Grahn\n",
    "# Date: 2024-01-23"
   ]
  },
  {
   "cell_type": "code",
   "execution_count": 2,
   "metadata": {},
   "outputs": [
    {
     "name": "stdout",
     "output_type": "stream",
     "text": [
      "T H H T H H H 7 flips\n"
     ]
    }
   ],
   "source": [
    "import random\n",
    "\n",
    "# Keep track of the last value, head or tail\n",
    "previous_coin_value = None\n",
    "# Keep track of how many consecutive heads or tails do we got\n",
    "consecutive_heads_or_tails_counter = 1 # We start counting at 1, since we start with one coin toss result to compare with\n",
    "# Keep track of how many coin flips we had to do before we reached the amount of consecutive heads or tails\n",
    "number_of_coin_flips = 0\n",
    "\n",
    "# Simulates flipping a coin to se if it lands on head or tail\n",
    "# Returns H for head and T for tail\n",
    "def toss_the_coin():\n",
    "    times_to_flip_the_coin_in_the_air=random.randint(4, 7) # Simulates how \"high\" (the higher the more flips) we toss the coin before it lands, at least four times, and at most 7 times\n",
    "    head_or_tail = random.randint(1, times_to_flip_the_coin_in_the_air) # Simulate flipping the coin, one flip is mandatory that is why I start at 1 then max value depends on how high it was thrown\n",
    "    # If an even value it is Heads else it is Tail\n",
    "    if head_or_tail % 2 == 0:\n",
    "        return \"T\" # This is even\n",
    "    else:\n",
    "        return \"H\"\n",
    "\n",
    "# Keep on flipping the coin until we got three consecutive heads or tail values\n",
    "while consecutive_heads_or_tails_counter != 3:\n",
    "    current_coin_value = toss_the_coin()\n",
    "    number_of_coin_flips +=1\n",
    "\n",
    "    # It the value is the same as previous tossed coin value, add one to our consecutive counter\n",
    "    if current_coin_value == previous_coin_value:\n",
    "        consecutive_heads_or_tails_counter +=1\n",
    "    # Nope this was a new value, then we reset the counter\n",
    "    else:\n",
    "        consecutive_heads_or_tails_counter = 1\n",
    "\n",
    "    # If this is the first value ever checked, then add it to previous coin value\n",
    "    if previous_coin_value == None:\n",
    "        previous_coin_value = current_coin_value\n",
    "\n",
    "    # Update the previous flipped coin value\n",
    "    previous_coin_value = current_coin_value\n",
    "    print(\"{coin_value} \".format(coin_value=current_coin_value), end =\"\")\n",
    "print(\"{coin_flips} flips\".format(coin_flips= number_of_coin_flips)) # The while loop has ended, print the total amount of coin flips"
   ]
  }
 ],
 "metadata": {
  "kernelspec": {
   "display_name": "Python 3",
   "language": "python",
   "name": "python3"
  },
  "language_info": {
   "codemirror_mode": {
    "name": "ipython",
    "version": 3
   },
   "file_extension": ".py",
   "mimetype": "text/x-python",
   "name": "python",
   "nbconvert_exporter": "python",
   "pygments_lexer": "ipython3",
   "version": "3.11.5"
  }
 },
 "nbformat": 4,
 "nbformat_minor": 2
}
