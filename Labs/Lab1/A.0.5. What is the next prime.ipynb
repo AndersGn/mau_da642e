{
 "cells": [
  {
   "cell_type": "markdown",
   "metadata": {},
   "source": [
    "# Lab1: This Python script solves the problems outlined in assignment A.0.5. What is the next prime?\n",
    "\n",
    "Task description:\n",
    "\n",
    "In this exercise, you will create a function named \"nextPrime\" that finds and returns  the first prime number larger than some integer, n. The value of n will be passed to the function as its only parameter. Include a main program that reads an integer from the user and displays the first prime number larger than the entered value. Import and use your solution to Exercise A.03 while completing this exercise.\n",
    "\n",
    "## Note from Anders: task say I should import code from A.03 but I think we should import the code from A.04?\n",
    "\n",
    "# Author: Anders Grahn\n",
    "# Date: 2024-01-21"
   ]
  },
  {
   "cell_type": "code",
   "execution_count": 1,
   "metadata": {},
   "outputs": [
    {
     "name": "stdout",
     "output_type": "stream",
     "text": [
      "ToDo:\n"
     ]
    }
   ],
   "source": [
    "print(\"ToDo:\")"
   ]
  }
 ],
 "metadata": {
  "kernelspec": {
   "display_name": "Python 3",
   "language": "python",
   "name": "python3"
  },
  "language_info": {
   "codemirror_mode": {
    "name": "ipython",
    "version": 3
   },
   "file_extension": ".py",
   "mimetype": "text/x-python",
   "name": "python",
   "nbconvert_exporter": "python",
   "pygments_lexer": "ipython3",
   "version": "3.11.5"
  }
 },
 "nbformat": 4,
 "nbformat_minor": 2
}
